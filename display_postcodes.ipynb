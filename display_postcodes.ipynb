{
 "cells": [
  {
   "cell_type": "markdown",
   "metadata": {},
   "source": [
    "# Load and display dataframe of postcodes"
   ]
  },
  {
   "cell_type": "code",
   "execution_count": 1,
   "metadata": {
    "ExecuteTime": {
     "end_time": "2019-05-30T14:52:09.274316Z",
     "start_time": "2019-05-30T14:52:08.934836Z"
    }
   },
   "outputs": [],
   "source": [
    "import pandas as pd\n",
    "import pickle"
   ]
  },
  {
   "cell_type": "code",
   "execution_count": 2,
   "metadata": {
    "ExecuteTime": {
     "end_time": "2019-05-30T14:52:09.295275Z",
     "start_time": "2019-05-30T14:52:09.276017Z"
    }
   },
   "outputs": [
    {
     "data": {
      "text/plain": [
       "(4, 4)"
      ]
     },
     "execution_count": 2,
     "metadata": {},
     "output_type": "execute_result"
    }
   ],
   "source": [
    "# load dataframe of postcodes\n",
    "# satisfying the distance requirements\n",
    "pc_file = open('pc.p', 'rb')\n",
    "pc = pickle.load(pc_file)\n",
    "pc_file.close()\n",
    "pc.shape"
   ]
  },
  {
   "cell_type": "code",
   "execution_count": 3,
   "metadata": {
    "ExecuteTime": {
     "end_time": "2019-05-30T14:52:09.393324Z",
     "start_time": "2019-05-30T14:52:09.296781Z"
    }
   },
   "outputs": [
    {
     "data": {
      "text/html": [
       "<div>\n",
       "<style scoped>\n",
       "    .dataframe tbody tr th:only-of-type {\n",
       "        vertical-align: middle;\n",
       "    }\n",
       "\n",
       "    .dataframe tbody tr th {\n",
       "        vertical-align: top;\n",
       "    }\n",
       "\n",
       "    .dataframe thead th {\n",
       "        text-align: right;\n",
       "    }\n",
       "</style>\n",
       "<table border=\"1\" class=\"dataframe\">\n",
       "  <thead>\n",
       "    <tr style=\"text-align: right;\">\n",
       "      <th></th>\n",
       "      <th>latitude</th>\n",
       "      <th>longitude</th>\n",
       "      <th>EX1</th>\n",
       "      <th>TA1</th>\n",
       "    </tr>\n",
       "    <tr>\n",
       "      <th>postcode</th>\n",
       "      <th></th>\n",
       "      <th></th>\n",
       "      <th></th>\n",
       "      <th></th>\n",
       "    </tr>\n",
       "  </thead>\n",
       "  <tbody>\n",
       "    <tr>\n",
       "      <th>EX14</th>\n",
       "      <td>50.81272</td>\n",
       "      <td>-3.18960</td>\n",
       "      <td>27.0</td>\n",
       "      <td>29.0</td>\n",
       "    </tr>\n",
       "    <tr>\n",
       "      <th>EX15</th>\n",
       "      <td>50.87675</td>\n",
       "      <td>-3.33907</td>\n",
       "      <td>27.0</td>\n",
       "      <td>33.0</td>\n",
       "    </tr>\n",
       "    <tr>\n",
       "      <th>EX16</th>\n",
       "      <td>50.92258</td>\n",
       "      <td>-3.49122</td>\n",
       "      <td>30.0</td>\n",
       "      <td>28.0</td>\n",
       "    </tr>\n",
       "    <tr>\n",
       "      <th>TA21</th>\n",
       "      <td>50.97673</td>\n",
       "      <td>-3.24507</td>\n",
       "      <td>33.0</td>\n",
       "      <td>15.0</td>\n",
       "    </tr>\n",
       "  </tbody>\n",
       "</table>\n",
       "</div>"
      ],
      "text/plain": [
       "          latitude  longitude   EX1   TA1\n",
       "postcode                                 \n",
       "EX14      50.81272   -3.18960  27.0  29.0\n",
       "EX15      50.87675   -3.33907  27.0  33.0\n",
       "EX16      50.92258   -3.49122  30.0  28.0\n",
       "TA21      50.97673   -3.24507  33.0  15.0"
      ]
     },
     "execution_count": 3,
     "metadata": {},
     "output_type": "execute_result"
    }
   ],
   "source": [
    "# display dataframe\n",
    "pc"
   ]
  },
  {
   "cell_type": "code",
   "execution_count": 4,
   "metadata": {
    "ExecuteTime": {
     "end_time": "2019-05-30T14:52:09.502069Z",
     "start_time": "2019-05-30T14:52:09.395795Z"
    }
   },
   "outputs": [],
   "source": [
    "# now work with that, e.g. sort by column, pick the postcode that minimises some metric etc ...\n"
   ]
  },
  {
   "cell_type": "markdown",
   "metadata": {},
   "source": [
    "# Visualisation with Geopandas"
   ]
  },
  {
   "cell_type": "markdown",
   "metadata": {},
   "source": [
    "The following visualisation may require more packages (geopandas packages are not included in the requirements file; this was done with version 0.4.1) and it also requires the shapefiles under 'UK postcode boundary polygons' on the page https://www.opendoorlogistics.com/downloads/"
   ]
  },
  {
   "cell_type": "code",
   "execution_count": 5,
   "metadata": {
    "ExecuteTime": {
     "end_time": "2019-05-30T14:52:09.849021Z",
     "start_time": "2019-05-30T14:52:09.503652Z"
    }
   },
   "outputs": [],
   "source": [
    "# import geopandas packages, load search parameters\n",
    "import geopandas\n",
    "from shapely.geometry import Point\n",
    "import matplotlib.pyplot as plt\n",
    "sp_file = open('search_parameters.py', 'r')\n",
    "exec(sp_file.read())\n",
    "sp_file.close()"
   ]
  },
  {
   "cell_type": "code",
   "execution_count": 6,
   "metadata": {
    "ExecuteTime": {
     "end_time": "2019-05-30T14:52:09.865587Z",
     "start_time": "2019-05-30T14:52:09.852286Z"
    }
   },
   "outputs": [],
   "source": [
    "# geopandas dataframes for the plot\n",
    "# (1) postcode centres for labels\n",
    "temp_df = pc.reindex(columns=['latitude','longitude','coordinates'])\n",
    "temp_df['coordinates'] = list(zip(temp_df.longitude, temp_df.latitude))\n",
    "temp_df['coordinates'] = temp_df['coordinates'].apply(Point)\n",
    "pc_centres = geopandas.GeoDataFrame(temp_df, geometry='coordinates')"
   ]
  },
  {
   "cell_type": "code",
   "execution_count": 7,
   "metadata": {
    "ExecuteTime": {
     "end_time": "2019-05-30T14:52:09.965410Z",
     "start_time": "2019-05-30T14:52:09.869387Z"
    }
   },
   "outputs": [],
   "source": [
    "# (2) destination coordinates\n",
    "cols = list(pc.columns)\n",
    "cols.remove('longitude')\n",
    "cols.remove('latitude')\n",
    "temp_df = pd.read_csv('postcode-outcodes.csv',\n",
    "                     index_col='postcode', header=0).drop(columns=['id']).reindex(index=cols)\n",
    "temp_df['coordinates'] = list(zip(temp_df.longitude, temp_df.latitude))\n",
    "temp_df['coordinates'] = temp_df['coordinates'].apply(Point)\n",
    "dest_coords = geopandas.GeoDataFrame(temp_df, geometry='coordinates')"
   ]
  },
  {
   "cell_type": "code",
   "execution_count": 8,
   "metadata": {
    "ExecuteTime": {
     "end_time": "2019-05-30T14:52:10.333469Z",
     "start_time": "2019-05-30T14:52:09.968500Z"
    }
   },
   "outputs": [],
   "source": [
    "# (3) axis limits, background map\n",
    "minlat = min(temp_df.latitude.min(), min_lat)\n",
    "maxlat = max(temp_df.latitude.max(), max_lat)\n",
    "minlon = min(temp_df.longitude.min(), min_lon)\n",
    "maxlon = max(temp_df.longitude.max(), max_lon)\n",
    "del temp_df\n",
    "uk = geopandas.read_file('postcode_shapes/Distribution/Areas.shp')"
   ]
  },
  {
   "cell_type": "code",
   "execution_count": 9,
   "metadata": {
    "ExecuteTime": {
     "end_time": "2019-05-30T14:52:10.756042Z",
     "start_time": "2019-05-30T14:52:10.335558Z"
    }
   },
   "outputs": [],
   "source": [
    "# (4) shapefile for postcode districts\n",
    "pc_shapes = geopandas.read_file('postcode_shapes/Distribution/Districts.shp')\\\n",
    "    .rename(columns={'name': 'postcode'}).set_index('postcode')\n",
    "pc_shapes = pc_shapes.reindex(index=pc.index)"
   ]
  },
  {
   "cell_type": "code",
   "execution_count": 10,
   "metadata": {
    "ExecuteTime": {
     "end_time": "2019-05-30T14:52:12.189210Z",
     "start_time": "2019-05-30T14:52:10.758176Z"
    }
   },
   "outputs": [
    {
     "data": {
      "image/png": "[encoded data removed]",
      "text/plain": [
       "<matplotlib.figure.Figure at 0x7fcee592a860>"
      ]
     },
     "metadata": {},
     "output_type": "display_data"
    }
   ],
   "source": [
    "# now plot everything\n",
    "fig, axs = plt.subplots(1, figsize=(10,10))\n",
    "uk.plot(ax=axs, color='green', edgecolor='black')\n",
    "pc_shapes.plot(ax=axs, color='yellow', edgecolor='red')\n",
    "props = dict(boxstyle='round', facecolor='linen', alpha=1)\n",
    "for p in pc_centres.iterrows():\n",
    "    axs.text(p[1]['longitude'], p[1]['latitude'], p[0],\n",
    "             horizontalalignment='center', fontsize=11, bbox=props)\n",
    "dest_coords.plot(ax=axs, color='blue', markersize=40)\n",
    "axs.set_xlim(([minlon-0.1, maxlon+0.1]))\n",
    "axs.set_ylim(([minlat-0.1, maxlat+0.1]))\n",
    "plt.show()"
   ]
  },
  {
   "cell_type": "code",
   "execution_count": null,
   "metadata": {},
   "outputs": [],
   "source": []
  }
 ],
 "metadata": {
  "kernelspec": {
   "display_name": "Python 3",
   "language": "python",
   "name": "python3"
  },
  "language_info": {
   "codemirror_mode": {
    "name": "ipython",
    "version": 3
   },
   "file_extension": ".py",
   "mimetype": "text/x-python",
   "name": "python",
   "nbconvert_exporter": "python",
   "pygments_lexer": "ipython3",
   "version": "3.6.4"
  },
  "varInspector": {
   "cols": {
    "lenName": 16,
    "lenType": 16,
    "lenVar": 40
   },
   "kernels_config": {
    "python": {
     "delete_cmd_postfix": "",
     "delete_cmd_prefix": "del ",
     "library": "var_list.py",
     "varRefreshCmd": "print(var_dic_list())"
    },
    "r": {
     "delete_cmd_postfix": ") ",
     "delete_cmd_prefix": "rm(",
     "library": "var_list.r",
     "varRefreshCmd": "cat(var_dic_list()) "
    }
   },
   "types_to_exclude": [
    "module",
    "function",
    "builtin_function_or_method",
    "instance",
    "_Feature"
   ],
   "window_display": false
  }
 },
 "nbformat": 4,
 "nbformat_minor": 2
}
